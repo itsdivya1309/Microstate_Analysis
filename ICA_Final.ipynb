{
 "cells": [
  {
   "cell_type": "code",
   "execution_count": 1,
   "id": "0a538c6f",
   "metadata": {},
   "outputs": [
    {
     "name": "stdout",
     "output_type": "stream",
     "text": [
      "Numpy version:  1.24.3\n",
      "MNE-Python:  1.4.2\n"
     ]
    }
   ],
   "source": [
    "# Importing the libraries\n",
    "\n",
    "import numpy as np\n",
    "print('Numpy version: ', np.__version__)\n",
    "\n",
    "import matplotlib.pyplot as plt\n",
    "\n",
    "import mne\n",
    "print('MNE-Python: ', mne.__version__)\n",
    "\n",
    "mne.set_log_level('error')  # reduce extraneous MNE output"
   ]
  },
  {
   "cell_type": "markdown",
   "id": "fe5faf1c",
   "metadata": {},
   "source": [
    "## Import the filtered dataset"
   ]
  },
  {
   "cell_type": "code",
   "execution_count": 2,
   "id": "bf180c9f",
   "metadata": {},
   "outputs": [],
   "source": [
    "filters = list()\n",
    "file_path = \"D:\\IIIT_Hyderabad\\Code\\data_filter\\sub-\"\n",
    "suffix = \"_ses-t1_task-resteyesc_eeg_filter.fif\"\n",
    "for i in range(111):\n",
    "    j = str(i+1)\n",
    "    file_name = file_path+j+suffix\n",
    "    filtered = mne.io.read_raw_fif(file_name)\n",
    "    # Set montage\n",
    "    montage = 'standard_1005'  # Electrode position file\n",
    "    filtered.set_montage(montage)\n",
    "    filters.append(filtered)"
   ]
  },
  {
   "cell_type": "code",
   "execution_count": 3,
   "id": "c5e821c1",
   "metadata": {},
   "outputs": [
    {
     "data": {
      "text/plain": [
       "111"
      ]
     },
     "execution_count": 3,
     "metadata": {},
     "output_type": "execute_result"
    }
   ],
   "source": [
    "len(filters)"
   ]
  },
  {
   "cell_type": "markdown",
   "id": "2d776c27",
   "metadata": {},
   "source": [
    "## Applying ICA"
   ]
  },
  {
   "cell_type": "code",
   "execution_count": 4,
   "id": "84724839",
   "metadata": {},
   "outputs": [],
   "source": [
    "from mne_icalabel import label_components\n",
    "from autoreject import get_rejection_threshold"
   ]
  },
  {
   "cell_type": "code",
   "execution_count": 5,
   "id": "0f6f5a70",
   "metadata": {},
   "outputs": [],
   "source": [
    "# Afunction that:\n",
    "# 1. Interpolates bad channels\n",
    "# 2. Applies high-pass filter of 1 Hz\n",
    "# 3. Segments the data into 2s epochs\n",
    "\n",
    "def ica_data(data):\n",
    "    data = data.load_data().copy().interpolate_bads(reset_bads=False) # Interpolating bad channels\n",
    "    raw_ica = data.load_data().copy().filter(l_freq = 1, h_freq = None) # Applying high-pass filter\n",
    "    # Segment the data\n",
    "    tstep = 2.0\n",
    "    events_ica = mne.make_fixed_length_events(raw_ica, duration=tstep)\n",
    "    epochs_ica = mne.Epochs(raw_ica, events_ica, tmin=0.0, tmax=tstep, baseline=None, preload=True)\n",
    "\n",
    "    return epochs_ica\n",
    "\n",
    "#epochs = list()"
   ]
  },
  {
   "cell_type": "code",
   "execution_count": 6,
   "id": "2104fc8f",
   "metadata": {},
   "outputs": [],
   "source": [
    "# A function that applies\n",
    "# 1. Autoreject to get the amplitude threshold\n",
    "# 2. ica with components 20, and method infomax\n",
    "# 3. ica_label and print the label for each component \n",
    "\n",
    "def ica_(epochs_ica):\n",
    "    reject = get_rejection_threshold(epochs_ica)\n",
    "    ica = mne.preprocessing.ICA(n_components = 20, \n",
    "                                max_iter = 200, \n",
    "                                method='infomax', \n",
    "                                fit_params=dict(extended=True), \n",
    "                                random_state = 42)\n",
    "    ica.fit(epochs_ica, reject = reject, tstep = 2.0)\n",
    "    return ica\n",
    "\n"
   ]
  },
  {
   "cell_type": "code",
   "execution_count": 7,
   "id": "2d15437a",
   "metadata": {},
   "outputs": [],
   "source": [
    "def ica_labels(epochs_ica,ica):\n",
    "    ic_labels = label_components(epochs_ica, ica, method=\"iclabel\")\n",
    "    return ic_labels['labels']\n",
    "\n",
    "labels = list()"
   ]
  },
  {
   "cell_type": "code",
   "execution_count": 8,
   "id": "07d08f56",
   "metadata": {},
   "outputs": [],
   "source": [
    "def clean_ica(data,ica, label):   \n",
    "    exclude_idx = [idx for idx, source in enumerate(label) if source not in [\"brain\"]]\n",
    "    reconst_data = data.copy()\n",
    "    reconst_data = ica.apply(reconst_data, exclude=exclude_idx)\n",
    "    return reconst_data\n",
    "\n",
    "datas = list()"
   ]
  },
  {
   "cell_type": "code",
   "execution_count": 9,
   "id": "db8f9ba1",
   "metadata": {},
   "outputs": [],
   "source": [
    "icas = list()"
   ]
  },
  {
   "cell_type": "code",
   "execution_count": 10,
   "id": "e270dee8",
   "metadata": {},
   "outputs": [],
   "source": [
    "prefix = \"D:\\IIIT_Hyderabad\\Code\\ica_file\\sub-\"\n",
    "suffix = \"_ses-t1_task-resteyesc_eeg_ica.fif\"\n",
    "for i in range(94):\n",
    "    j = str(i+1)\n",
    "    filename = prefix+j+suffix\n",
    "    ica = mne.preprocessing.read_ica(filename)\n",
    "    icas.append(ica)"
   ]
  },
  {
   "cell_type": "code",
   "execution_count": 11,
   "id": "6da68ee3",
   "metadata": {},
   "outputs": [
    {
     "data": {
      "text/plain": [
       "94"
      ]
     },
     "execution_count": 11,
     "metadata": {},
     "output_type": "execute_result"
    }
   ],
   "source": [
    "len(icas)"
   ]
  },
  {
   "cell_type": "code",
   "execution_count": 12,
   "id": "befba596",
   "metadata": {},
   "outputs": [
    {
     "name": "stdout",
     "output_type": "stream",
     "text": [
      "Participant:  95\n",
      "Estimating rejection dictionary for eeg\n",
      "Participant:  96\n",
      "Estimating rejection dictionary for eeg\n",
      "Participant:  97\n",
      "Estimating rejection dictionary for eeg\n",
      "Participant:  98\n",
      "Estimating rejection dictionary for eeg\n",
      "Participant:  99\n",
      "Estimating rejection dictionary for eeg\n",
      "Participant:  100\n",
      "Estimating rejection dictionary for eeg\n",
      "Participant:  101\n",
      "Estimating rejection dictionary for eeg\n",
      "Participant:  102\n",
      "Estimating rejection dictionary for eeg\n",
      "Participant:  103\n",
      "Estimating rejection dictionary for eeg\n",
      "Participant:  104\n",
      "Estimating rejection dictionary for eeg\n",
      "Participant:  105\n",
      "Estimating rejection dictionary for eeg\n",
      "Participant:  106\n",
      "Estimating rejection dictionary for eeg\n",
      "Participant:  107\n",
      "Estimating rejection dictionary for eeg\n",
      "Participant:  108\n",
      "Estimating rejection dictionary for eeg\n",
      "Participant:  109\n",
      "Estimating rejection dictionary for eeg\n",
      "Participant:  110\n",
      "Estimating rejection dictionary for eeg\n",
      "Participant:  111\n",
      "Estimating rejection dictionary for eeg\n"
     ]
    }
   ],
   "source": [
    "for i in range(94,111):\n",
    "    data = filters[i]\n",
    "    epochs_ica = ica_data(data)\n",
    "    print('Participant: ',i+1)\n",
    "    ica = ica_(epochs_ica)\n",
    "    label = ica_labels(epochs_ica, ica)\n",
    "    new_data = clean_ica(data,ica,label)\n",
    "    icas.append(ica)\n",
    "    labels.append(label)\n",
    "    datas.append(new_data)\n",
    "    j = str(i+1)\n",
    "    ica.save('D:\\IIIT_Hyderabad\\Code\\ica_file\\sub-'+j+'_ses-t1_task-resteyesc_eeg_ica.fif', overwrite = True)\n",
    "    new_data.save(\"D:\\IIIT_Hyderabad\\Code\\preprocessed_data\\sub-\"+j+'_ses-t1_task-resteyesc_eeg_ica_filtered'+'.fif', overwrite=True)"
   ]
  },
  {
   "cell_type": "code",
   "execution_count": 12,
   "id": "47c9673c",
   "metadata": {},
   "outputs": [
    {
     "data": {
      "text/plain": [
       "<mne_qt_browser._pg_figure.MNEQtBrowser at 0x286d407c1f0>"
      ]
     },
     "execution_count": 12,
     "metadata": {},
     "output_type": "execute_result"
    }
   ],
   "source": [
    "raw = mne.io.read_raw_edf(\"D:\\IIIT_Hyderabad\\Code\\data\\sub-6_ses-t1_task-resteyesc_eeg.edf\")\n",
    "raw.plot()\n",
    "filtered = mne.io.read_raw_fif(\"D:\\IIIT_Hyderabad\\Code\\preprocessed_data\\sub-6_ses-t1_task-resteyesc_eeg_ica_filtered.fif\")\n",
    "filtered.plot()"
   ]
  },
  {
   "cell_type": "code",
   "execution_count": null,
   "id": "d2e0ccb2",
   "metadata": {},
   "outputs": [],
   "source": []
  }
 ],
 "metadata": {
  "kernelspec": {
   "display_name": "Python 3 (ipykernel)",
   "language": "python",
   "name": "python3"
  },
  "language_info": {
   "codemirror_mode": {
    "name": "ipython",
    "version": 3
   },
   "file_extension": ".py",
   "mimetype": "text/x-python",
   "name": "python",
   "nbconvert_exporter": "python",
   "pygments_lexer": "ipython3",
   "version": "3.11.4"
  }
 },
 "nbformat": 4,
 "nbformat_minor": 5
}
